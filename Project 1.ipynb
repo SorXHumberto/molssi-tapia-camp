{
 "cells": [
  {
   "cell_type": "markdown",
   "metadata": {},
   "source": [
    "# Project 1"
   ]
  },
  {
   "cell_type": "markdown",
   "metadata": {},
   "source": [
    "1) Read info from xyz\n",
    "2) Calculate all distances\n",
    "3) Print"
   ]
  },
  {
   "cell_type": "code",
   "execution_count": 1,
   "metadata": {},
   "outputs": [],
   "source": [
    "import os\n",
    "import numpy\n",
    "import glob"
   ]
  },
  {
   "cell_type": "code",
   "execution_count": 78,
   "metadata": {},
   "outputs": [
    {
     "name": "stdout",
     "output_type": "stream",
     "text": [
      "3\n",
      "\n",
      "Water xyz file\n",
      "\n",
      "O        0.000000     -0.007156      0.965491\n",
      "\n",
      "H1      -0.000000      0.001486     -0.003471\n",
      "\n",
      "H2       0.000000      0.931026      1.207929\n",
      "\n"
     ]
    },
    {
     "data": {
      "text/plain": [
       "['H2', '0.000000', '0.931026', '1.207929']"
      ]
     },
     "execution_count": 78,
     "metadata": {},
     "output_type": "execute_result"
    }
   ],
   "source": [
    "water_file = os.path.join('water.xyz')\n",
    "outfile = open(water_file, 'r')\n",
    "text = outfile.readlines()\n",
    "n = 0\n",
    "while n < len(text):\n",
    "    print(text[n])\n",
    "    n+= 1"
   ]
  },
  {
   "cell_type": "code",
   "execution_count": null,
   "metadata": {},
   "outputs": [],
   "source": [
    "for line in text:\n",
    "    if 'O' in line:\n",
    "        O = line\n",
    "    if 'H1' in line:\n",
    "        H1 = line\n",
    "    if 'H2' in line:\n",
    "        H2 = line\n",
    "data = O.split()\n",
    "data += H1.split()\n",
    "data += H2.split()\n",
    "\n",
    "type(data)"
   ]
  },
  {
   "cell_type": "code",
   "execution_count": null,
   "metadata": {},
   "outputs": [],
   "source": [
    "n = 0\n",
    "coordinates = []\n",
    "while n < len(data):\n",
    "    if n%4 != 0:\n",
    "        coordinates = data[n]\n",
    "print(coordinates)"
   ]
  },
  {
   "cell_type": "code",
   "execution_count": null,
   "metadata": {},
   "outputs": [],
   "source": []
  },
  {
   "cell_type": "code",
   "execution_count": null,
   "metadata": {},
   "outputs": [],
   "source": []
  }
 ],
 "metadata": {
  "kernelspec": {
   "display_name": "Python 3",
   "language": "python",
   "name": "python3"
  },
  "language_info": {
   "codemirror_mode": {
    "name": "ipython",
    "version": 3
   },
   "file_extension": ".py",
   "mimetype": "text/x-python",
   "name": "python",
   "nbconvert_exporter": "python",
   "pygments_lexer": "ipython3",
   "version": "3.7.3"
  }
 },
 "nbformat": 4,
 "nbformat_minor": 2
}
