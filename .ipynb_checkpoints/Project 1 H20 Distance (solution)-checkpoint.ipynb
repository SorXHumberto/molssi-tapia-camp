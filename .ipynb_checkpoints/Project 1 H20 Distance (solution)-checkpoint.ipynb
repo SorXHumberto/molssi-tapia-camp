{
 "cells": [
  {
   "cell_type": "code",
   "execution_count": 1,
   "metadata": {},
   "outputs": [],
   "source": [
    "import os\n",
    "import numpy\n",
    "import glob"
   ]
  },
  {
   "cell_type": "code",
   "execution_count": 8,
   "metadata": {},
   "outputs": [
    {
     "name": "stdout",
     "output_type": "stream",
     "text": [
      "['O' '0.000000' '-0.007156' '0.965491']\n",
      "['H1' '-0.000000' '0.001486' '-0.003471']\n",
      "['H2' '0.000000' '0.931026' '1.207929']\n"
     ]
    }
   ],
   "source": [
    "file_location = os.path.join('water.xyz')\n",
    "H2O_file = numpy.genfromtxt(fname=file_location, skip_header = 2, dtype='unicode')#read waterfile and skip the 2 first lines\n",
    "n = 0\n",
    "while n < len(H2O_file):\n",
    "    print(H2O_file[n])\n",
    "    n+= 1"
   ]
  },
  {
   "cell_type": "code",
   "execution_count": 24,
   "metadata": {},
   "outputs": [
    {
     "name": "stdout",
     "output_type": "stream",
     "text": [
      "O to H1 : 0.969\n",
      "O to H2 : 0.969\n"
     ]
    }
   ],
   "source": [
    "file_location = os.path.join('water.xyz')\n",
    "H2O_file = numpy.genfromtxt(fname=file_location, skip_header = 2, dtype='unicode')#read waterfile and skip the 2 first lines\n",
    "symbols = H2O_file[:,0]\n",
    "coordinates = H2O_file[:,1:]\n",
    "coordinates = coordinates.astype(numpy.float)#change coordinates from str to float\n",
    "num_atoms = len(symbols)\n",
    "distance = 0\n",
    "max_bond_length = 1.5\n",
    "for num1 in range(0, num_atoms):\n",
    "    for num2 in range(0, num_atoms):\n",
    "        if num2 > num1:\n",
    "            distance_x = coordinates[num1, 0] - coordinates[num2, 0]\n",
    "            distance_y = coordinates[num1, 1] - coordinates[num2, 1]\n",
    "            distance_z = coordinates[num1, 2] - coordinates[num2, 2]\n",
    "            distance = numpy.sqrt(distance_x**2 + distance_y**2 + distance_z**2)\n",
    "            if distance < max_bond_length:\n",
    "                print(F'{symbols[num1]} to {symbols[num2]} : {distance:.3f}')"
   ]
  },
  {
   "cell_type": "code",
   "execution_count": null,
   "metadata": {},
   "outputs": [],
   "source": []
  }
 ],
 "metadata": {
  "kernelspec": {
   "display_name": "Python 3",
   "language": "python",
   "name": "python3"
  },
  "language_info": {
   "codemirror_mode": {
    "name": "ipython",
    "version": 3
   },
   "file_extension": ".py",
   "mimetype": "text/x-python",
   "name": "python",
   "nbconvert_exporter": "python",
   "pygments_lexer": "ipython3",
   "version": "3.7.3"
  }
 },
 "nbformat": 4,
 "nbformat_minor": 2
}
