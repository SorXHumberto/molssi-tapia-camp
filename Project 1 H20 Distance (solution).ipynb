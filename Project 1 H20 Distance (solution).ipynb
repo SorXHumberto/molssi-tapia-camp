{
 "cells": [
  {
   "cell_type": "code",
   "execution_count": 1,
   "metadata": {},
   "outputs": [],
   "source": [
    "import os\n",
    "import numpy\n",
    "import glob"
   ]
  },
  {
   "cell_type": "code",
   "execution_count": 8,
   "metadata": {},
   "outputs": [
    {
     "name": "stdout",
     "output_type": "stream",
     "text": [
      "['O' '0.000000' '-0.007156' '0.965491']\n",
      "['H1' '-0.000000' '0.001486' '-0.003471']\n",
      "['H2' '0.000000' '0.931026' '1.207929']\n"
     ]
    }
   ],
   "source": [
    "file_location = os.path.join('water.xyz')\n",
    "H2O_file = numpy.genfromtxt(fname=file_location, skip_header = 2, dtype='unicode')#read waterfile and skip the 2 first lines\n",
    "n = 0\n",
    "while n < len(H2O_file):\n",
    "    print(H2O_file[n])\n",
    "    n+= 1"
   ]
  },
  {
   "cell_type": "code",
   "execution_count": null,
   "metadata": {},
   "outputs": [],
   "source": [
    "#Funtion: piece of code that does 1 task has imputs (arguments) and outputs (returns)\n",
    "#def funtion_name(parameters):\n",
    "#    *** code goes here ***\n",
    "#    return valure to return"
   ]
  },
  {
   "cell_type": "code",
   "execution_count": 28,
   "metadata": {},
   "outputs": [],
   "source": [
    "def calculate_distance(coords1, coords2):# 3 sets of double quotes allows to give a description for help\n",
    "    \"\"\"\n",
    "    This funtion has two arguments, the coordinates of two atoms. It returns the distance between atoms.\n",
    "    \"\"\"\n",
    "    distance_x = coords1[0] - coords2[0]\n",
    "    distance_y = coords1[1] - coords2[1]\n",
    "    distance_z = coords1[2] - coords2[2]\n",
    "    distance = numpy.sqrt(distance_x**2 + distance_y**2 + distance_z**2)\n",
    "    return distance"
   ]
  },
  {
   "cell_type": "code",
   "execution_count": 59,
   "metadata": {},
   "outputs": [],
   "source": [
    "def bond_check(distance,  minimum=0, maximum=1.5): # when variables are set equal to => default\n",
    "    \"\"\"\n",
    "    Checks a distance to se if it is a real bond.\n",
    "    \"\"\"\n",
    "    if distance > minimum and distance < maximum:\n",
    "        return True\n",
    "    return False"
   ]
  },
  {
   "cell_type": "code",
   "execution_count": 60,
   "metadata": {},
   "outputs": [
    {
     "name": "stdout",
     "output_type": "stream",
     "text": [
      "O to H1 : 0.969\n",
      "O to H2 : 0.969\n"
     ]
    }
   ],
   "source": [
    "file_location = os.path.join('water.xyz')\n",
    "H2O_file = numpy.genfromtxt(fname=file_location, skip_header = 2, dtype='unicode')#read waterfile and skip the 2 first lines\n",
    "symbols = H2O_file[:,0]\n",
    "coordinates = H2O_file[:,1:]\n",
    "coordinates = coordinates.astype(numpy.float)#change coordinates from str to float\n",
    "num_atoms = len(symbols)\n",
    "distance = 0\n",
    "max_bond_length = 1.5\n",
    "for num1 in range(0, num_atoms):\n",
    "    for num2 in range(0, num_atoms):\n",
    "        if num2 > num1:\n",
    "            distance = calculate_distance(coordinates[num1], coordinates[num2])\n",
    "            if bond_check(distance):\n",
    "                print(F'{symbols[num1]} to {symbols[num2]} : {distance:.3f}')"
   ]
  },
  {
   "cell_type": "code",
   "execution_count": null,
   "metadata": {},
   "outputs": [],
   "source": []
  },
  {
   "cell_type": "code",
   "execution_count": null,
   "metadata": {},
   "outputs": [],
   "source": []
  }
 ],
 "metadata": {
  "kernelspec": {
   "display_name": "Python 3",
   "language": "python",
   "name": "python3"
  },
  "language_info": {
   "codemirror_mode": {
    "name": "ipython",
    "version": 3
   },
   "file_extension": ".py",
   "mimetype": "text/x-python",
   "name": "python",
   "nbconvert_exporter": "python",
   "pygments_lexer": "ipython3",
   "version": "3.7.3"
  }
 },
 "nbformat": 4,
 "nbformat_minor": 2
}
